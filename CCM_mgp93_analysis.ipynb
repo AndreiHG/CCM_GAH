{
 "cells": [
  {
   "cell_type": "code",
   "execution_count": 5,
   "metadata": {},
   "outputs": [],
   "source": [
    "### import numpy as np\n",
    "import pandas as pd\n",
    "import matplotlib.pyplot as plt\n",
    "from scipy.stats.stats import pearsonr\n",
    "from scipy.stats import spearmanr\n",
    "import time as tm\n",
    "from collections import OrderedDict\n",
    "# Custom libraries\n",
    "import CCM_GAH_lib as ccm\n",
    "import data_handle_lib as dh"
   ]
  },
  {
   "cell_type": "markdown",
   "metadata": {},
   "source": [
    "### For M3"
   ]
  },
  {
   "cell_type": "code",
   "execution_count": 6,
   "metadata": {},
   "outputs": [],
   "source": [
    "df_M3_gut = pd.read_csv('mgp93_M_gut_spearman_20190125_182001.csv')"
   ]
  },
  {
   "cell_type": "code",
   "execution_count": 7,
   "metadata": {},
   "outputs": [],
   "source": [
    "# Clean\n",
    "df_M3_gut = df_M3_gut[df_M3_gut.loc[:, \"spearman_coeff\"]>0.8].sort_values(by=[\"spearman_coeff\"], ascending=False)"
   ]
  },
  {
   "cell_type": "code",
   "execution_count": 8,
   "metadata": {},
   "outputs": [],
   "source": [
    "df_M3_gut_nodes_1, df_M3_gut_nodes_2 = pd.DataFrame(), pd.DataFrame()\n",
    "df_M3_gut_nodes_1[[\"ID\", \"label\"]] = df_M3_gut[[\"x_ID\", \"x_name\"]]\n",
    "df_M3_gut_nodes_2[[\"ID\", \"label\"]] = df_M3_gut[[\"y_ID\", \"y_name\"]]\n",
    "df_M3_gut_nodes = pd.concat([df_M3_gut_nodes_1, df_M3_gut_nodes_2])\n",
    "\n",
    "df_M3_gut_nodes.drop_duplicates(inplace=True)\n",
    "df_M3_gut_nodes.reset_index(inplace=True)"
   ]
  },
  {
   "cell_type": "code",
   "execution_count": 9,
   "metadata": {},
   "outputs": [],
   "source": [
    "df_M3_gut_edges = pd.DataFrame(columns=[\"source\", \"target\"])\n",
    "df_M3_gut_edges[[\"source\", \"target\"]] = df_M3_gut[[\"y_ID\", \"x_ID\"]]"
   ]
  },
  {
   "cell_type": "code",
   "execution_count": 10,
   "metadata": {},
   "outputs": [],
   "source": [
    "# Export CSV\n",
    "timestr = tm.strftime(\"%Y%m%d_%H%M%S\")\n",
    "df_M3_gut_nodes.to_csv(\"mgp93_M3_gut_nodes_\" + timestr+ \".csv\", index=False)\n",
    "df_M3_gut_edges.to_csv(\"mgp93_M3_gut_edges_\" + timestr+ \".csv\", index=False)"
   ]
  },
  {
   "cell_type": "markdown",
   "metadata": {},
   "source": [
    "### For F4"
   ]
  },
  {
   "cell_type": "code",
   "execution_count": 9,
   "metadata": {},
   "outputs": [],
   "source": [
    "df_F4_gut = pd.read_csv('mgp93_F_gut_spearman_20190125_102043.csv')\n",
    "#df_F4_gut = df_F4_gut.drop(\"Unnamed: 0\", axis=1)"
   ]
  },
  {
   "cell_type": "code",
   "execution_count": 10,
   "metadata": {},
   "outputs": [],
   "source": [
    "# Clean\n",
    "df_F4_gut = df_F4_gut[df_F4_gut.loc[:, \"spearman_coeff\"]>0.8].sort_values(by=[\"spearman_coeff\"], ascending=False)"
   ]
  },
  {
   "cell_type": "code",
   "execution_count": 11,
   "metadata": {},
   "outputs": [],
   "source": [
    "df_F4_gut_nodes_1, df_F4_gut_nodes_2 = pd.DataFrame(columns=[\"nodes_ID\", \"nodes_label\"]), pd.DataFrame(columns=[\"nodes_ID\", \"nodes_label\"])\n",
    "df_F4_gut_nodes_1[[\"ID\", \"label\"]] = df_F4_gut[[\"x_ID\", \"x_name\"]]\n",
    "df_F4_gut_nodes_2[[\"ID\", \"label\"]] = df_F4_gut[[\"y_ID\", \"y_name\"]]\n",
    "df_F4_gut_nodes = pd.concat([df_F4_gut_nodes_1, df_F4_gut_nodes_2])\n",
    "\n",
    "df_F4_gut_nodes.drop_duplicates(inplace=True)\n",
    "df_F4_gut_nodes.reset_index(inplace=True)"
   ]
  },
  {
   "cell_type": "code",
   "execution_count": 12,
   "metadata": {},
   "outputs": [],
   "source": [
    "df_F4_gut_edges = pd.DataFrame(columns=[\"source\", \"target\"])\n",
    "df_F4_gut_edges[[\"source\", \"target\"]] = df_F4_gut[[\"y_ID\", \"x_ID\"]]"
   ]
  },
  {
   "cell_type": "code",
   "execution_count": 13,
   "metadata": {},
   "outputs": [],
   "source": [
    "# Export CSV\n",
    "timestr = tm.strftime(\"%Y%m%d_%H%M%S\")\n",
    "df_F4_gut_nodes.to_csv(\"mgp93_F4_gut_nodes_\" + timestr + \".csv\", index=False)\n",
    "df_F4_gut_edges.to_csv(\"mgp93_F4_gut_edges_\" + timestr + \".csv\", index=False)"
   ]
  }
 ],
 "metadata": {
  "kernelspec": {
   "display_name": "Python 3",
   "language": "python",
   "name": "python3"
  },
  "language_info": {
   "codemirror_mode": {
    "name": "ipython",
    "version": 3
   },
   "file_extension": ".py",
   "mimetype": "text/x-python",
   "name": "python",
   "nbconvert_exporter": "python",
   "pygments_lexer": "ipython3",
   "version": "3.7.0"
  }
 },
 "nbformat": 4,
 "nbformat_minor": 2
}
