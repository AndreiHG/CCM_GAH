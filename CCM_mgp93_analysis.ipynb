{
 "cells": [
  {
   "cell_type": "code",
   "execution_count": 2,
   "metadata": {},
   "outputs": [],
   "source": [
    "import numpy as np\n",
    "import pandas as pd\n",
    "import matplotlib.pyplot as plt\n",
    "from scipy.stats.stats import pearsonr\n",
    "from scipy.stats import spearmanr\n",
    "import time as tm\n",
    "from collections import OrderedDict\n",
    "# Custom libraries\n",
    "import CCM_GAH_lib as ccm\n",
    "import data_handle_lib as dh"
   ]
  },
  {
   "cell_type": "code",
   "execution_count": 3,
   "metadata": {},
   "outputs": [],
   "source": [
    "def converter_space(instr):\n",
    "    return np.fromstring(instr[1:-1], sep = ',')\n",
    "def converter_comma(instr):\n",
    "    return np.fromstring(instr[1:-1], sep =' ')"
   ]
  },
  {
   "cell_type": "markdown",
   "metadata": {},
   "source": [
    "#### Generates nodes and edges from a given data set, given certain limits (on the correlation coefficients, mainly)"
   ]
  },
  {
   "cell_type": "code",
   "execution_count": 4,
   "metadata": {},
   "outputs": [],
   "source": [
    "# Select which data file to analyze\n",
    "data_path = 'mgp93_F4_Tongue_CCMed_parallel_20190130_104823.csv'"
   ]
  },
  {
   "cell_type": "code",
   "execution_count": 5,
   "metadata": {},
   "outputs": [],
   "source": [
    "df_data_analysis = pd.read_csv(data_path, converters={\"pearson_coeff\":converter_space, \"L\":converter_comma})"
   ]
  },
  {
   "cell_type": "code",
   "execution_count": 6,
   "metadata": {},
   "outputs": [],
   "source": [
    "# Conditions for causality\n",
    "df_data_analysis = df_data_analysis[(df_data_analysis.loc[:, \"spearman_coeff_p\"]<0.05)\\\n",
    "                                    & (df_data_analysis.loc[:, \"spearman_coeff\"]>0.5)\\\n",
    "                                    & (df_data_analysis.loc[:, \"pearson_coeff_last\"]>0.5)]"
   ]
  },
  {
   "cell_type": "code",
   "execution_count": 7,
   "metadata": {},
   "outputs": [],
   "source": [
    "# Get other info about data set, to include in the output file title\n",
    "E = str(int(df_data_analysis['E'].iloc[0]))\n",
    "# Output names\n",
    "timestr = tm.strftime(\"%Y%m%d_%H%M%S\")\n",
    "output_edges_name = \"mgp93_F4_Tongue_edges_E\" + E + \"_\" + timestr+ \".csv\"\n",
    "output_nodes_name = \"mgp93_F4_Tongue_nodes_E\" + E + \"_\" + timestr+ \".csv\""
   ]
  },
  {
   "cell_type": "code",
   "execution_count": 8,
   "metadata": {},
   "outputs": [],
   "source": [
    "# Nodes\n",
    "df_nodes_temp_1, df_nodes_temp_2 = pd.DataFrame(), pd.DataFrame()\n",
    "df_nodes_temp_1[[\"ID\", \"label\"]] = df_data_analysis[[\"x_ID\", \"x_name\"]]\n",
    "df_nodes_temp_2[[\"ID\", \"label\"]] = df_data_analysis[[\"y_ID\", \"y_name\"]]\n",
    "df_nodes = pd.concat([df_nodes_temp_1, df_nodes_temp_2])\n",
    "\n",
    "df_nodes.drop_duplicates(inplace=True)\n",
    "df_nodes.reset_index(inplace=True, drop=True)\n",
    "df_nodes.loc[:,\"ID\"] = df_nodes.loc[:,\"ID\"].astype(int)"
   ]
  },
  {
   "cell_type": "code",
   "execution_count": 9,
   "metadata": {},
   "outputs": [],
   "source": [
    "# Edges\n",
    "df_edges = pd.DataFrame(columns=[\"source\", \"target\"])\n",
    "df_edges[[\"source\", \"target\"]] = df_data_analysis[[\"y_ID\", \"x_ID\"]].astype(int)"
   ]
  },
  {
   "cell_type": "code",
   "execution_count": 10,
   "metadata": {},
   "outputs": [],
   "source": [
    "# Output to CSV\n",
    "timestr = tm.strftime(\"%Y%m%d_%H%M%S\")\n",
    "df_nodes.to_csv(output_nodes_name, index=False)\n",
    "df_edges.to_csv(output_edges_name, index=False)"
   ]
  },
  {
   "cell_type": "code",
   "execution_count": null,
   "metadata": {},
   "outputs": [],
   "source": []
  }
 ],
 "metadata": {
  "kernelspec": {
   "display_name": "Python 3",
   "language": "python",
   "name": "python3"
  },
  "language_info": {
   "codemirror_mode": {
    "name": "ipython",
    "version": 3
   },
   "file_extension": ".py",
   "mimetype": "text/x-python",
   "name": "python",
   "nbconvert_exporter": "python",
   "pygments_lexer": "ipython3",
   "version": "3.7.0"
  }
 },
 "nbformat": 4,
 "nbformat_minor": 2
}
