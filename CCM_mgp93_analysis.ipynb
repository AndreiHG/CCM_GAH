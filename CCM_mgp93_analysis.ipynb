{
 "cells": [
  {
   "cell_type": "code",
   "execution_count": 1,
   "metadata": {},
   "outputs": [
    {
     "ename": "SyntaxError",
     "evalue": "unexpected EOF while parsing (CCM_GAH_lib.py, line 178)",
     "output_type": "error",
     "traceback": [
      "Traceback \u001b[1;36m(most recent call last)\u001b[0m:\n",
      "  File \u001b[0;32m\"C:\\ProgramData\\Anaconda3\\lib\\site-packages\\IPython\\core\\interactiveshell.py\"\u001b[0m, line \u001b[0;32m2961\u001b[0m, in \u001b[0;35mrun_code\u001b[0m\n    exec(code_obj, self.user_global_ns, self.user_ns)\n",
      "\u001b[1;36m  File \u001b[1;32m\"<ipython-input-1-80d2be79fc68>\"\u001b[1;36m, line \u001b[1;32m9\u001b[1;36m, in \u001b[1;35m<module>\u001b[1;36m\u001b[0m\n\u001b[1;33m    import CCM_GAH_lib as ccm\u001b[0m\n",
      "\u001b[1;36m  File \u001b[1;32m\"D:\\WorkplaceH\\sugihara\\CCM_GAH_lib.py\"\u001b[1;36m, line \u001b[1;32m178\u001b[0m\n\u001b[1;33m    \u001b[0m\n\u001b[1;37m    ^\u001b[0m\n\u001b[1;31mSyntaxError\u001b[0m\u001b[1;31m:\u001b[0m unexpected EOF while parsing\n"
     ]
    }
   ],
   "source": [
    "import numpy as np\n",
    "import pandas as pd\n",
    "import matplotlib.pyplot as plt\n",
    "from scipy.stats.stats import pearsonr\n",
    "from scipy.stats import spearmanr\n",
    "import time as tm\n",
    "from collections import OrderedDict\n",
    "# Custom libraries\n",
    "import CCM_GAH_lib as ccm\n",
    "import data_handle_lib as dh"
   ]
  },
  {
   "cell_type": "code",
   "execution_count": null,
   "metadata": {},
   "outputs": [],
   "source": [
    "def converter_space(instr):\n",
    "    return np.fromstring(instr[1:-1], sep = ',')\n",
    "def converter_comma(instr):\n",
    "    return np.fromstring(instr[1:-1], sep =' ')"
   ]
  },
  {
   "cell_type": "markdown",
   "metadata": {},
   "source": [
    "### For M3"
   ]
  },
  {
   "cell_type": "code",
   "execution_count": null,
   "metadata": {},
   "outputs": [],
   "source": [
    "df_M3_gut = pd.read_csv('mgp93_M_gut_spearman_20190126_024548.csv', converters={\"pearson_coeff\":converter_space,\\\n",
    "                                                                                \"L\":converter_comma})"
   ]
  },
  {
   "cell_type": "code",
   "execution_count": null,
   "metadata": {},
   "outputs": [],
   "source": [
    "# Clean\n",
    "df_M3_gut = df_M3_gut[(df_M3_gut.loc[:, \"spearman_coeff_p\"]<0.05) & (df_M3_gut.loc[:, \"pearson_coeff_last\"]>0.5)]"
   ]
  },
  {
   "cell_type": "code",
   "execution_count": null,
   "metadata": {},
   "outputs": [],
   "source": [
    "df_M3_gut_nodes_1, df_M3_gut_nodes_2 = pd.DataFrame(), pd.DataFrame()\n",
    "df_M3_gut_nodes_1[[\"ID\", \"label\"]] = df_M3_gut[[\"x_ID\", \"x_name\"]]\n",
    "df_M3_gut_nodes_2[[\"ID\", \"label\"]] = df_M3_gut[[\"y_ID\", \"y_name\"]]\n",
    "df_M3_gut_nodes = pd.concat([df_M3_gut_nodes_1, df_M3_gut_nodes_2])\n",
    "\n",
    "df_M3_gut_nodes.drop_duplicates(inplace=True)\n",
    "df_M3_gut_nodes.reset_index(inplace=True, drop=True)\n",
    "df_M3_gut_nodes.loc[:,\"ID\"] = df_M3_gut_nodes.loc[:,\"ID\"].astype(int)"
   ]
  },
  {
   "cell_type": "code",
   "execution_count": null,
   "metadata": {},
   "outputs": [],
   "source": [
    "df_M3_gut_edges = pd.DataFrame(columns=[\"source\", \"target\"])\n",
    "df_M3_gut_edges[[\"source\", \"target\"]] = df_M3_gut[[\"y_ID\", \"x_ID\"]].astype(int)"
   ]
  },
  {
   "cell_type": "code",
   "execution_count": null,
   "metadata": {},
   "outputs": [],
   "source": [
    "# Export CSV\n",
    "timestr = tm.strftime(\"%Y%m%d_%H%M%S\")\n",
    "df_M3_gut_nodes.to_csv(\"mgp93_M3_gut_nodes_\" + timestr+ \".csv\", index=False)\n",
    "df_M3_gut_edges.to_csv(\"mgp93_M3_gut_edges_\" + timestr+ \".csv\", index=False)"
   ]
  },
  {
   "cell_type": "markdown",
   "metadata": {},
   "source": [
    "### For F4"
   ]
  },
  {
   "cell_type": "code",
   "execution_count": null,
   "metadata": {},
   "outputs": [],
   "source": [
    "df_F4_gut = pd.read_csv('mgp93_F_gut_spearman_20190126_184020.csv', converters={\"pearson_coeff\":converter_space,\\\n",
    "                                                                                \"L\":converter_comma})"
   ]
  },
  {
   "cell_type": "code",
   "execution_count": null,
   "metadata": {},
   "outputs": [],
   "source": [
    "# Clean\n",
    "df_F4_gut = df_F4_gut[(df_F4_gut.loc[:, \"spearman_coeff_p\"]<0.05) & (df_F4_gut.loc[:, \"pearson_coeff_last\"]>0.5)]"
   ]
  },
  {
   "cell_type": "code",
   "execution_count": null,
   "metadata": {},
   "outputs": [],
   "source": [
    "df_F4_gut_nodes_1, df_F4_gut_nodes_2 = pd.DataFrame(), pd.DataFrame()\n",
    "df_F4_gut_nodes_1[[\"ID\", \"label\"]] = df_F4_gut[[\"x_ID\", \"x_name\"]]\n",
    "df_F4_gut_nodes_2[[\"ID\", \"label\"]] = df_F4_gut[[\"y_ID\", \"y_name\"]]\n",
    "df_F4_gut_nodes = pd.concat([df_F4_gut_nodes_1, df_F4_gut_nodes_2])\n",
    "\n",
    "df_F4_gut_nodes.drop_duplicates(inplace=True)\n",
    "df_F4_gut_nodes.reset_index(inplace=True)\n",
    "df_F4_gut_nodes.loc[:,\"ID\"] = df_F4_gut_nodes.loc[:,\"ID\"].astype(int)"
   ]
  },
  {
   "cell_type": "code",
   "execution_count": null,
   "metadata": {},
   "outputs": [],
   "source": [
    "df_F4_gut_edges = pd.DataFrame(columns=[\"source\", \"target\"])\n",
    "df_F4_gut_edges[[\"source\", \"target\"]] = df_F4_gut[[\"y_ID\", \"x_ID\"]].astype(int)"
   ]
  },
  {
   "cell_type": "code",
   "execution_count": null,
   "metadata": {},
   "outputs": [],
   "source": [
    "# Export CSV\n",
    "timestr = tm.strftime(\"%Y%m%d_%H%M%S\")\n",
    "df_F4_gut_nodes.to_csv(\"mgp93_F4_gut_nodes_\" + timestr + \".csv\", index=False)\n",
    "df_F4_gut_edges.to_csv(\"mgp93_F4_gut_edges_\" + timestr + \".csv\", index=False)"
   ]
  }
 ],
 "metadata": {
  "kernelspec": {
   "display_name": "Python 3",
   "language": "python",
   "name": "python3"
  },
  "language_info": {
   "codemirror_mode": {
    "name": "ipython",
    "version": 3
   },
   "file_extension": ".py",
   "mimetype": "text/x-python",
   "name": "python",
   "nbconvert_exporter": "python",
   "pygments_lexer": "ipython3",
   "version": "3.7.0"
  }
 },
 "nbformat": 4,
 "nbformat_minor": 2
}
