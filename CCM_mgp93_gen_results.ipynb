{
 "cells": [
  {
   "cell_type": "code",
   "execution_count": 1,
   "metadata": {},
   "outputs": [],
   "source": [
    "import numpy as np\n",
    "import pandas as pd\n",
    "import matplotlib.pyplot as plt\n",
    "from scipy.stats.stats import pearsonr\n",
    "from scipy.stats import spearmanr\n",
    "import time as tm\n",
    "from collections import OrderedDict\n",
    "from multiprocessing import Pool\n",
    "import psutil\n",
    "# Custom libraries\n",
    "import CCM_GAH_lib as ccm\n",
    "import data_handle_lib as dh"
   ]
  },
  {
   "cell_type": "code",
   "execution_count": 2,
   "metadata": {},
   "outputs": [],
   "source": [
    "# Read mgp93 data\n",
    "data_path = 'data/mgp93_data_genus.tsv'\n",
    "metadata_path = 'data/mgp93_metadata.csv'\n",
    "\n",
    "raw_data, raw_metadata, metadata_descr = dh.read_raw_data(data_path, metadata_path)\n",
    "df_mgp93 = dh.merge_data(raw_data, raw_metadata)"
   ]
  },
  {
   "cell_type": "markdown",
   "metadata": {},
   "source": [
    "### Select data"
   ]
  },
  {
   "cell_type": "code",
   "execution_count": 3,
   "metadata": {},
   "outputs": [],
   "source": [
    "subject = \"F4\" # or F4\n",
    "sample_site = \"feces\" # or L_palm, R_palm, Tongue"
   ]
  },
  {
   "cell_type": "code",
   "execution_count": 4,
   "metadata": {},
   "outputs": [],
   "source": [
    "# Select data for a certain subject and sample location\n",
    "df_data = df_mgp93[((df_mgp93.host_individual == subject) | (df_mgp93['host_individual'].isnull()))\n",
    "                       & ((df_mgp93.common_sample_site == sample_site) | (df_mgp93['common_sample_site'].isnull()))]\n",
    "\n",
    "how_long_metadata = np.count_nonzero(np.isnan(df_data.index.values))\n",
    "first_day = int(df_data.index.values[how_long_metadata])\n",
    "first_species = 0 # column index of first species (usually 0)\n",
    "\n",
    "data_range = df_data.columns.values[df_data.columns.get_loc(first_species):].astype(int)\n",
    "how_many_species = 5\n",
    "only_most_abundant = True\n",
    "\n",
    "# Select only the most abundant\n",
    "if(only_most_abundant):\n",
    "    total_population = df_data.loc[first_day:, data_range].sum(axis=0)\n",
    "    data_range = (total_population.sort_values(ascending=False).index.values).astype(int)[0:how_many_species]\n",
    "    \n",
    "df_data = pd.concat([df_data.iloc[:, 0:df_data.columns.get_loc(first_species)-1], df_data.loc[:, data_range]], axis=1)\n",
    "\n",
    "df_data_norm = df_data.copy()\n",
    "df_data_norm.loc[first_day:, data_range] = dh.df_normalize(df_data_norm.loc[first_day:, data_range], along_row = True)\n",
    "\n",
    "time = df_data_norm.loc[first_day:, data_range].index.values"
   ]
  },
  {
   "cell_type": "code",
   "execution_count": 5,
   "metadata": {},
   "outputs": [],
   "source": [
    "bacteria_IDs = df_data.columns.values[4:]\n",
    "timestr = tm.strftime(\"%Y%m%d_%H%M%S\")"
   ]
  },
  {
   "cell_type": "code",
   "execution_count": 6,
   "metadata": {},
   "outputs": [
    {
     "name": "stdout",
     "output_type": "stream",
     "text": [
      "Appended! Finished lot 1 in 54 s.\n",
      "Appended! Finished lot 2 in 42 s.\n",
      "Appended! Finished lot 3 in 29 s.\n",
      "Appended! Finished lot 4 in 15 s.\n",
      "Appended! Finished lot 5 in 0 s.\n",
      "Wall time: 2min 19s\n"
     ]
    }
   ],
   "source": [
    "%%time\n",
    "# Create the empty file and the header. Next we just append to it\n",
    "df_result = pd.DataFrame({\"x_ID\":[], \"y_ID\":[], \"x_name\":[], \"y_name\":[], \"spearman_coeff\":[], \"spearman_coeff_p\":[],\\\n",
    "                                \"pearson_coeff\":[], \"pearson_coeff_last\":[], \"L\":[], \"L_final\":[], \"L_step\":[],\\\n",
    "                                \"subject\":[], \"sample_loc\":[], \"E\":[]})\n",
    "df_result.to_csv(\"mgp93_\"+subject+\"_\"+sample_site+\"_CCMed_\"+timestr+\".csv\") \n",
    "\n",
    "# Do CCM on all possible combinations of the selected species\n",
    "# Append to the previously created csv file live, but in chunks \n",
    "for m in range(len(bacteria_IDs)):\n",
    "    start_time = tm.time()\n",
    "    for n in np.arange(m+1, len(bacteria_IDs)):\n",
    "        df_result = df_result.append(ccm.single_CCM(df_data_norm, bacteria_IDs[m], bacteria_IDs[n],\\\n",
    "                                                    L_step=1, print_timeit=False, E=7), sort=False)\n",
    "    end_time = tm.time()\n",
    "    print(\"Appended! Finished lot %s in %.0f s.\" %(m+1, end_time-start_time))\n",
    "    df_result.to_csv(\"mgp93_\"+subject+\"_\"+sample_site+\"_CCMed_\"+timestr+\".csv\", header=None, mode=\"a\")\n",
    "    df_result.drop(df_result.index, inplace=True) # we already output it\n",
    "        \n",
    "#df_M_gut_result.reset_index(drop=True, inplace=True)"
   ]
  }
 ],
 "metadata": {
  "kernelspec": {
   "display_name": "Python 3",
   "language": "python",
   "name": "python3"
  },
  "language_info": {
   "codemirror_mode": {
    "name": "ipython",
    "version": 3
   },
   "file_extension": ".py",
   "mimetype": "text/x-python",
   "name": "python",
   "nbconvert_exporter": "python",
   "pygments_lexer": "ipython3",
   "version": "3.7.0"
  }
 },
 "nbformat": 4,
 "nbformat_minor": 2
}
