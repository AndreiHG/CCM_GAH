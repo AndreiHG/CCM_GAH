{
 "cells": [
  {
   "cell_type": "code",
   "execution_count": 1,
   "metadata": {},
   "outputs": [],
   "source": [
    "import numpy as np\n",
    "import pandas as pd\n",
    "import matplotlib.pyplot as plt"
   ]
  },
  {
   "cell_type": "markdown",
   "metadata": {},
   "source": [
    "### Read data"
   ]
  },
  {
   "cell_type": "code",
   "execution_count": 2,
   "metadata": {},
   "outputs": [],
   "source": [
    "metadata_str = 'mgp93_metadata.csv'\n",
    "data_str = 'mgp93_data_genus.tsv'"
   ]
  },
  {
   "cell_type": "code",
   "execution_count": 3,
   "metadata": {},
   "outputs": [],
   "source": [
    "df_metadata = pd.read_csv(metadata_str)\n",
    "df_data = pd.read_csv(data_str, sep='\\t')\n",
    "\n",
    "df_metadata = df_metadata.drop([0], axis=0) # first row is a description of each column\n",
    "#df_metadata = df_metadata.loc[df_metadata['mislabeled'] == 'n'] # drop mislabeled data"
   ]
  },
  {
   "cell_type": "markdown",
   "metadata": {},
   "source": [
    "### Manipulate data\n",
    "Need this in order to the match metadata with the data."
   ]
  },
  {
   "cell_type": "code",
   "execution_count": 4,
   "metadata": {},
   "outputs": [],
   "source": [
    "## Do some meta_data manipulation\n",
    "\n",
    "# Only keep useful metadata columns\n",
    "metadata_useful = ['sample_name', 'collection_date', 'common_sample_site', 'host_individual', 'mislabeled']\n",
    "df_metadata = df_metadata.loc[:, metadata_useful]\n",
    "# Index on sample_name so we can combine the meta_data with the data\n",
    "df_metadata = df_metadata.set_index('sample_name')\n",
    "\n",
    "## Do some data manipulation\n",
    "\n",
    "# Change file names to match those in meta_data\n",
    "df_data.columns = [col_title.split('.', 1)[0] for col_title in df_data.columns]\n",
    "# Drop unclassified genus\n",
    "df_data = df_data.drop(index = (df_data[df_data['genus'].str.contains(\"unclassified\")]).index)"
   ]
  },
  {
   "cell_type": "code",
   "execution_count": 5,
   "metadata": {},
   "outputs": [],
   "source": [
    "# Make the metadata and the data dataframes match and...\n",
    "df_data_1 = pd.concat([(df_data.T).iloc[0:6], (df_data.T).iloc[6:].sort_index()])\n",
    "df_metadata_1 = pd.concat([pd.DataFrame(np.nan, index=df_data_1.iloc[0:6].index.values, columns=df_metadata.columns), df_metadata])\n",
    "# ...concatanate them\n",
    "df_data = pd.concat([df_metadata_1, df_data_1], axis=1, sort=False)"
   ]
  },
  {
   "cell_type": "code",
   "execution_count": 6,
   "metadata": {},
   "outputs": [],
   "source": [
    "df_data.insert(0, 'sample_name', df_data.index.values) # to store once the index will be reset\n",
    "# Set index to days (in float) since first sampling\n",
    "df_data['collection_date'] = pd.to_datetime(df_data['collection_date'])\n",
    "df_data.loc['L1S1':] = (df_data.loc['L1S1':].sort_values(by='collection_date')).values\n",
    "t0 = df_data['collection_date'][6]\n",
    "df_data['days'] = (df_data['collection_date']-t0).astype('timedelta64[D]')# Time difference in days (converted to floats)\n",
    "df_data = df_data.set_index('days')"
   ]
  },
  {
   "cell_type": "markdown",
   "metadata": {},
   "source": [
    "### Clean data"
   ]
  },
  {
   "cell_type": "code",
   "execution_count": 49,
   "metadata": {},
   "outputs": [],
   "source": [
    "# Eliminate mislabeled data\n",
    "df_data = df_data[(df_data.mislabeled == 'n')  | (df_data['mislabeled'].isnull())]\n",
    "\n",
    "# Select data for a certain subject and sample location\n",
    "df_data_F_gut = df_data[((df_data.host_individual == 'F4') | (df_data['host_individual'].isnull()))\n",
    "                       & ((df_data.common_sample_site == 'feces') | (df_data['common_sample_site'].isnull()))]"
   ]
  }
 ],
 "metadata": {
  "kernelspec": {
   "display_name": "Python 3",
   "language": "python",
   "name": "python3"
  },
  "language_info": {
   "codemirror_mode": {
    "name": "ipython",
    "version": 3
   },
   "file_extension": ".py",
   "mimetype": "text/x-python",
   "name": "python",
   "nbconvert_exporter": "python",
   "pygments_lexer": "ipython3",
   "version": "3.7.0"
  }
 },
 "nbformat": 4,
 "nbformat_minor": 2
}
