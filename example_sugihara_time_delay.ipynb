{
 "cells": [
  {
   "cell_type": "markdown",
   "metadata": {},
   "source": [
    "## Work very much in progress"
   ]
  },
  {
   "cell_type": "code",
   "execution_count": 1,
   "metadata": {},
   "outputs": [],
   "source": [
    "import numpy as np\n",
    "import scipy as sp\n",
    "import scipy.spatial.distance as dist\n",
    "import matplotlib.pyplot as plt\n",
    "from scipy.stats.stats import pearsonr\n",
    "import random\n",
    "import pandas as pd\n",
    "# Custom libraries\n",
    "import CCM_GAH_lib as ccm\n",
    "import data_handle_lib as dh"
   ]
  },
  {
   "cell_type": "markdown",
   "metadata": {},
   "source": [
    "#### Two-species model system with synchrony"
   ]
  },
  {
   "cell_type": "code",
   "execution_count": 2,
   "metadata": {},
   "outputs": [],
   "source": [
    "# Generate artificial data \n",
    "\n",
    "def f_x (f_x_prev, f_y_prev):\n",
    "    return f_x_prev*(3.8 - 3.8*f_x_prev) # - 0.07*f_y_prev)\n",
    "\n",
    "def f_y (f_x_prev, f_y_prev):\n",
    "    return f_y_prev*(3.1 - 3.1*f_y_prev - 0.8*f_x_prev)\n",
    "\n",
    "time_max = 4000\n",
    "t = np.arange(time_max)\n",
    "x = np.zeros(time_max)\n",
    "x[0] = 0.2 # from supplementary materials\n",
    "y = np.zeros(time_max)\n",
    "y[0] = 0.4 # from supplementary materials\n",
    "\n",
    "for i in range(time_max-1):\n",
    "    x[i+1] = f_x(x[i], y[i])\n",
    "    y[i+1] = f_y(x[i], y[i])"
   ]
  },
  {
   "cell_type": "code",
   "execution_count": 3,
   "metadata": {},
   "outputs": [],
   "source": [
    "#plt.plot(t[0:100], x[0:100])\n",
    "#plt.plot(t[0:100], y[0:100])\n",
    "#plt.show()"
   ]
  },
  {
   "cell_type": "code",
   "execution_count": 4,
   "metadata": {},
   "outputs": [],
   "source": [
    "E = 2\n",
    "tau = 1\n",
    "how_many = 2\n",
    "how_long = 200\n",
    "\n",
    "lag_min, lag_max = -8, 8\n",
    "lag_array = np.arange(lag_min, lag_max)\n",
    "\n",
    "rho_xcrossy, rho_ycrossx = pd.DataFrame(columns=lag_array), pd.DataFrame(columns=lag_array)"
   ]
  },
  {
   "cell_type": "code",
   "execution_count": null,
   "metadata": {},
   "outputs": [],
   "source": [
    "for i in range(how_many):\n",
    "    rand_start = random.randint(1, 2000-how_long)\n",
    "    x_orig = np.concatenate((x[rand_start:rand_start+how_long], x[2000:3000]))\n",
    "    y_orig = np.concatenate((y[rand_start:rand_start+how_long], y[2000:3000]))\n",
    "    \n",
    "    y_approx = ccm.generateYApprox(x_orig, y_orig, E=E, tau=tau, leaveOut=False)\n",
    "    x_approx = ccm.generateYApprox(y_orig, x_orig, E=E, tau=tau, leaveOut=False)\n",
    "    \n",
    "    xcrossy, ycrossx = [], []\n",
    "    for lag in lag_array:\n",
    "        start = (E-1)+10\n",
    "        end = len(x_orig)-10\n",
    "        xcrossy.append(pearsonr(x_orig[start+lag:end+lag], y_approx[start:end])[0])\n",
    "        ycrossx.append(pearsonr(y_orig[start+lag:end+lag], y_approx[start:end])[0])\n",
    "    \n",
    "    rho_xcrossy.loc[i] = xcrossy\n",
    "    rho_ycrossx.loc[i] = ycrossx"
   ]
  },
  {
   "cell_type": "code",
   "execution_count": null,
   "metadata": {},
   "outputs": [],
   "source": [
    "plt.figure(figsize=(10, 5))\n",
    "plt.plot(rho_xcrossy.loc[i])\n",
    "plt.plot(rho_ycrossx.loc[i])\n",
    "plt.legend([\"x cross y\", \"y cross x\"])\n",
    "plt.show()"
   ]
  }
 ],
 "metadata": {
  "kernelspec": {
   "display_name": "Python 3",
   "language": "python",
   "name": "python3"
  },
  "language_info": {
   "codemirror_mode": {
    "name": "ipython",
    "version": 3
   },
   "file_extension": ".py",
   "mimetype": "text/x-python",
   "name": "python",
   "nbconvert_exporter": "python",
   "pygments_lexer": "ipython3",
   "version": "3.7.0"
  }
 },
 "nbformat": 4,
 "nbformat_minor": 2
}
